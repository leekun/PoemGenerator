{
 "cells": [
  {
   "cell_type": "markdown",
   "metadata": {},
   "source": [
    "# 参考"
   ]
  },
  {
   "cell_type": "markdown",
   "metadata": {
    "collapsed": true
   },
   "source": [
    "词料来源：https://github.com/chinese-poetry/chinese-poetry\n",
    "\n",
    "将其保存到本地目录\n",
    "\n",
    "*** keras 实现：***\n",
    "\n",
    "** 参考一：**\n",
    "        https://github.com/youyuge34/Poems_generator_Keras\n",
    "\n",
    "        训练，以前6个字符预测第七个字符。 其功能如藏头诗等，也是基于此来做的。\n",
    "        数据细节：没有考虑逗号\",\";\n",
    "\n",
    "** 参考二 **\n",
    "        https://github.com/Clover27/ancient-Chinese-poem-generator\n",
    "\n",
    "        训练，以前6个字符预测第七个字符。\n",
    "        数据细节：没有考虑逗号\",\"; 直接用前6个字判断第七个字。\n",
    "\n",
    "** 参考三 ** \n",
    "        https://github.com/jinfagang/tensorflow_poems\n",
    "        tensorflow实现; 采用pixelRNN。\n",
    "        数据细节：没有考虑逗号\",\"\n",
    "\n",
    "\n",
    "** pixelRNN **参考：\n",
    "        https://chunml.github.io/ChunML.github.io/project/Creating-Text-Generator-Using-Recurrent-Neural-Network/  \n",
    "        \n",
    "        可实现\n",
    "** language model **\n",
    "参考：https://machinelearningmastery.com/develop-word-based-neural-language-models-python-keras/\n",
    "https://machinelearningmastery.com/develop-character-based-neural-language-model-keras/\n",
    "        "
   ]
  },
  {
   "cell_type": "code",
   "execution_count": 2,
   "metadata": {
    "ExecuteTime": {
     "end_time": "2018-06-19T14:17:11.368099Z",
     "start_time": "2018-06-19T14:17:09.250586Z"
    },
    "collapsed": false
   },
   "outputs": [
    {
     "name": "stderr",
     "output_type": "stream",
     "text": [
      "Using TensorFlow backend.\n"
     ]
    }
   ],
   "source": [
    "from __future__ import print_function\n",
    "\n",
    "# sys import\n",
    "import collections\n",
    "import os\n",
    "import sys\n",
    "import time\n",
    "\n",
    "# math\n",
    "import copy\n",
    "from random import randint\n",
    "import re\n",
    "import json\n",
    "import numpy as np\n",
    "import  matplotlib.pyplot as plt\n",
    "from scipy import optimize\n",
    "from scipy.optimize import fmin_l_bfgs_b\n",
    "\n",
    "# keras\n",
    "import keras\n",
    "from keras import backend as K\n",
    "from keras.models import load_model, Sequential,Model\n",
    "from keras.preprocessing import image as kimage\n",
    "from keras.layers import Input, Dense, Dropout, Flatten,Reshape, TimeDistributed,LSTM\n",
    "from keras.layers.core import Activation, Flatten\n",
    "from keras.layers.normalization import BatchNormalization\n",
    "from keras.layers.convolutional import UpSampling2D\n",
    "from keras.layers.convolutional import Conv2D, MaxPooling2D\n",
    "from keras.optimizers import SGD\n",
    "from keras.datasets import mnist\n",
    "from keras.applications.vgg19 import VGG19,preprocess_input\n",
    "from keras.applications.mobilenet import MobileNet\n",
    "#from keras.preprocessing.image import img_to_array\n",
    "\n",
    "import tensorflow as tf"
   ]
  },
  {
   "cell_type": "markdown",
   "metadata": {},
   "source": [
    "# 查看数据"
   ]
  },
  {
   "cell_type": "code",
   "execution_count": 125,
   "metadata": {
    "ExecuteTime": {
     "end_time": "2018-06-14T06:22:44.107650Z",
     "start_time": "2018-06-14T06:22:43.740133Z"
    },
    "collapsed": false
   },
   "outputs": [
    {
     "name": "stdout",
     "output_type": "stream",
     "text": [
      "76 226 43028\n"
     ]
    }
   ],
   "source": [
    "file_name = 'poems.txt'\n",
    "max_len = 0\n",
    "miss = 0 \n",
    "total = 0 \n",
    "with open(file_name, \"r\", encoding='utf-8', ) as f:\n",
    "    for line in f.readlines():\n",
    "        try:\n",
    "            title, content = line.strip().split(':')\n",
    "            content = content.replace(' ', '')\n",
    "            #if '_' in content or '(' in content or '（' in content or '《' in content or '[' in content :\n",
    "            #    continue\n",
    "            #print(re.split('[+]',content))\n",
    "            #break\n",
    "            tm = max(len(p) for p in re.split('[+]',content))\n",
    "            max_len = tm if tm>max_len else max_len\n",
    "            if tm>25:\n",
    "                miss +=1\n",
    "                #print(line)\n",
    "                #print(re.split('[+]',content))\n",
    "                #break\n",
    "            total += 1\n",
    "        except:\n",
    "            continue\n",
    "print(max_len,miss,total)"
   ]
  },
  {
   "cell_type": "markdown",
   "metadata": {},
   "source": [
    "# 失败的模型\n",
    "\n",
    "每个句子，为一个样本： 输入为一个句子，输出为错位的一个句子。 \n",
    "\n",
    "训练出来的模型(30个echo)得到的结果不太对：无论输入词是什么，下一词概率最大的仍为同一个词。\n",
    "\n",
    "** 原因：** \n",
    "\n",
    "一是由于样本只有29万左右的句子，样本量太少了。\n",
    "\n",
    "二是时间步长为25，对于只有29万的文本量来说，有点太长了。\n"
   ]
  },
  {
   "cell_type": "markdown",
   "metadata": {},
   "source": [
    "## 处理数据"
   ]
  },
  {
   "cell_type": "code",
   "execution_count": 145,
   "metadata": {
    "ExecuteTime": {
     "end_time": "2018-06-20T10:26:34.740510Z",
     "start_time": "2018-06-20T10:26:34.737672Z"
    },
    "collapsed": true
   },
   "outputs": [],
   "source": [
    "SEQ_LEN = 25 # 也是timestep的长度"
   ]
  },
  {
   "cell_type": "code",
   "execution_count": 4,
   "metadata": {
    "ExecuteTime": {
     "end_time": "2018-06-19T14:17:42.335081Z",
     "start_time": "2018-06-19T14:17:42.291364Z"
    },
    "collapsed": true
   },
   "outputs": [],
   "source": [
    "# 不可使用 以一句话作为一个训练样本\n",
    "def process_poems_v1(file_name):\n",
    "    contents = ''\n",
    "    sentence_set = []\n",
    "    with open(file_name, \"r\", encoding='utf-8', ) as f:\n",
    "        for line in f.readlines():\n",
    "            try:\n",
    "                title, content = line.strip().split(':')\n",
    "                contents += content  \n",
    "\n",
    "                content = content.replace(' ', '')\n",
    "                cont_list = re.split('[+]',content) # 以+为断句。\n",
    "                \n",
    "                if cont_list[-1] != '': #最后一个sentence应该为空\n",
    "                    cont_list = cont_list[:-1] \n",
    "\n",
    "                for sen in cont_list :\n",
    "                    if len(sen) > SEQ_LEN:\n",
    "                        continue\n",
    "                    sentence_set.append(sen)\n",
    "\n",
    "            except ValueError as e:\n",
    "                pass\n",
    "    \n",
    "    all_words = list(contents)\n",
    "\n",
    "    #vocabs = set(all_words)  # 不可用\n",
    "    counter = collections.Counter(all_words)\n",
    "    vocabs = tuple([_[0] for _ in counter.items()])\n",
    "\n",
    "    vocabs = vocabs[:len(vocabs)] + (' ',)  #字典  \n",
    "    int_word_map = {ix:word for ix, word in enumerate(vocabs)}\n",
    "    word_int_map = {word:ix for ix, word in enumerate(vocabs)}\n",
    "    \n",
    "    sentence_vec = [list(map(lambda word: word_int_map.get(word, len(vocabs)), sen)) for sen in sentence_set]\n",
    "\n",
    "    return sentence_vec, word_int_map, int_word_map, vocabs"
   ]
  },
  {
   "cell_type": "markdown",
   "metadata": {},
   "source": [
    "## 构造训练数据"
   ]
  },
  {
   "cell_type": "code",
   "execution_count": 13,
   "metadata": {
    "ExecuteTime": {
     "end_time": "2018-06-19T14:23:33.276239Z",
     "start_time": "2018-06-19T14:23:29.574424Z"
    },
    "collapsed": false
   },
   "outputs": [],
   "source": [
    "sentence_vec, word_int_map, int_word_map, vocabs = process_poems_v1('poems.txt')"
   ]
  },
  {
   "cell_type": "code",
   "execution_count": 14,
   "metadata": {
    "ExecuteTime": {
     "end_time": "2018-06-19T14:23:34.908222Z",
     "start_time": "2018-06-19T14:23:34.904818Z"
    },
    "collapsed": true
   },
   "outputs": [],
   "source": [
    "HIDDEN_DIM = 50\n",
    "VOCAB_SIZE = len(vocabs)\n",
    "LAYER_NUM = 2\n",
    "SENTENCE_NUM = len(sentence_vec)"
   ]
  },
  {
   "cell_type": "code",
   "execution_count": 8,
   "metadata": {
    "ExecuteTime": {
     "end_time": "2018-06-19T14:19:44.560308Z",
     "start_time": "2018-06-19T14:19:44.532734Z"
    },
    "collapsed": true
   },
   "outputs": [],
   "source": [
    "# 不能跑！，占的内存很大，程序会挂掉\n",
    "def get_train_data_v1(sentence_vec, word_int_map, vocabs):\n",
    "    VOCAB_SIZE = len(vocabs)\n",
    "    SENTENTCE_NUM = len(sentence_vec)\n",
    "    \n",
    "    X = np.zeros((SENTENTCE_NUM, SEQ_LEN, VOCAB_SIZE))\n",
    "    y = np.zeros((SENTENTCE_NUM, SEQ_LEN, VOCAB_SIZE))\n",
    "    \n",
    "    for ix in range(SENTENTCE_NUM):       \n",
    "        input_seq = sentence_vec[ix]\n",
    "        input_seq += (SEQ_LEN-len(input_seq))* [word_int_map[' ']] # 补充到25的长度\n",
    "        input_seq_onehot = np.zeros((SEQ_LEN, VOCAB_SIZE))\n",
    "        for j in range(SEQ_LEN):\n",
    "            input_seq_onehot[j][input_seq[j]] = 1\n",
    "            \n",
    "        X[ix] = input_seq_onehot\n",
    "        \n",
    "        output_seq_onehot = copy.copy(input_seq_onehot)\n",
    "        output_seq_onehot[:,:-1] = output_seq_onehot[:,1:] \n",
    "        \n",
    "        y[ix] = output_seq_onehot\n",
    "        \n",
    "    return X,y"
   ]
  },
  {
   "cell_type": "code",
   "execution_count": 7,
   "metadata": {
    "ExecuteTime": {
     "end_time": "2018-06-19T14:19:42.345653Z",
     "start_time": "2018-06-19T14:19:42.329241Z"
    },
    "collapsed": true
   },
   "outputs": [],
   "source": [
    "# 使用迭代器\n",
    "def train_data_generator_v1(sentence_vec, word_int_map, vocabs, batch_size):\n",
    "    VOCAB_SIZE = len(vocabs)\n",
    "    while True:     \n",
    "        X = np.zeros((batch_size, SEQ_LEN, VOCAB_SIZE))\n",
    "        y = np.zeros((batch_size, SEQ_LEN, VOCAB_SIZE))\n",
    "        for bn in range(batch_size):\n",
    "            ix = randint(0, len(sentence_vec)-1) #随机取一个\n",
    "            input_seq = sentence_vec[ix]\n",
    "            input_seq += (SEQ_LEN-len(input_seq))* [word_int_map[' ']] # 补充到25的长度\n",
    "            input_seq_onehot = np.zeros((SEQ_LEN, VOCAB_SIZE))\n",
    "            for j in range(SEQ_LEN):\n",
    "                input_seq_onehot[j][input_seq[j]] = 1\n",
    "        \n",
    "            output_seq_onehot = copy.copy(input_seq_onehot)\n",
    "            output_seq_onehot[:,:-1] = output_seq_onehot[:,1:]\n",
    "            \n",
    "            X[bn] = input_seq_onehot\n",
    "            y[bn] = output_seq_onehot\n",
    "        yield (X,y)"
   ]
  },
  {
   "cell_type": "markdown",
   "metadata": {},
   "source": [
    "## 训练模型"
   ]
  },
  {
   "cell_type": "code",
   "execution_count": 25,
   "metadata": {
    "ExecuteTime": {
     "end_time": "2018-06-19T14:30:26.376245Z",
     "start_time": "2018-06-19T14:30:25.739992Z"
    },
    "collapsed": true
   },
   "outputs": [],
   "source": [
    "model = Sequential()\n",
    "model.add(LSTM(HIDDEN_DIM, input_shape=(SEQ_LEN, VOCAB_SIZE), return_sequences=True))\n",
    "model.add(Dropout(0.8))\n",
    "model.add(LSTM(HIDDEN_DIM, return_sequences=True))\n",
    "model.add(Dropout(0.8))\n",
    "model.add(TimeDistributed(Dense(VOCAB_SIZE)))\n",
    "model.add(Activation('softmax'))\n",
    "model.compile(loss=\"categorical_crossentropy\", optimizer=\"rmsprop\")"
   ]
  },
  {
   "cell_type": "code",
   "execution_count": 26,
   "metadata": {
    "ExecuteTime": {
     "end_time": "2018-06-19T14:30:28.272462Z",
     "start_time": "2018-06-19T14:30:28.268842Z"
    },
    "collapsed": false
   },
   "outputs": [
    {
     "name": "stdout",
     "output_type": "stream",
     "text": [
      "_________________________________________________________________\n",
      "Layer (type)                 Output Shape              Param #   \n",
      "=================================================================\n",
      "lstm_1 (LSTM)                (None, 25, 50)            1520000   \n",
      "_________________________________________________________________\n",
      "dropout_1 (Dropout)          (None, 25, 50)            0         \n",
      "_________________________________________________________________\n",
      "lstm_2 (LSTM)                (None, 25, 50)            20200     \n",
      "_________________________________________________________________\n",
      "dropout_2 (Dropout)          (None, 25, 50)            0         \n",
      "_________________________________________________________________\n",
      "time_distributed_1 (TimeDist (None, 25, 7549)          384999    \n",
      "_________________________________________________________________\n",
      "activation_1 (Activation)    (None, 25, 7549)          0         \n",
      "=================================================================\n",
      "Total params: 1,925,199\n",
      "Trainable params: 1,925,199\n",
      "Non-trainable params: 0\n",
      "_________________________________________________________________\n"
     ]
    }
   ],
   "source": [
    "model.summary()"
   ]
  },
  {
   "cell_type": "code",
   "execution_count": 35,
   "metadata": {
    "ExecuteTime": {
     "end_time": "2018-06-16T09:13:26.438852Z",
     "start_time": "2018-06-16T09:13:26.434573Z"
    },
    "collapsed": false
   },
   "outputs": [],
   "source": [
    "# 回调函数\n",
    "# 训练过程可视化\n",
    "tb = keras.callbacks.TensorBoard(log_dir='./logs')\n",
    "\n",
    "# 保存训练的模型\n",
    "ckpoint = keras.callbacks.ModelCheckpoint('models/models.{epoch:02d}.hdf5')\n",
    "\n",
    "callbacks = [tb, ckpoint]"
   ]
  },
  {
   "cell_type": "code",
   "execution_count": null,
   "metadata": {
    "ExecuteTime": {
     "start_time": "2018-06-19T03:43:51.606Z"
    },
    "collapsed": false
   },
   "outputs": [
    {
     "name": "stdout",
     "output_type": "stream",
     "text": [
      "Epoch 1/10\n",
      "  13/8493 [..............................] - ETA: 1:19:22 - loss: 3.1073"
     ]
    }
   ],
   "source": [
    "# 多次训练，得到30个echo\n",
    "history = model.fit_generator(generator=train_data_generator(sentence_vec, word_int_map, vocabs,32),\n",
    "                    steps_per_epoch=SENTENCE_NUM//32, epochs=20,\n",
    "                    callbacks=callbacks)"
   ]
  },
  {
   "cell_type": "markdown",
   "metadata": {},
   "source": [
    "## 生成数据"
   ]
  },
  {
   "cell_type": "code",
   "execution_count": 148,
   "metadata": {
    "ExecuteTime": {
     "end_time": "2018-06-20T10:27:12.022568Z",
     "start_time": "2018-06-20T10:27:11.980054Z"
    },
    "collapsed": false
   },
   "outputs": [],
   "source": [
    "def get_next_prediction(preds):\n",
    "    while True: \n",
    "        # 方式一：取最大概率的; 但是这样的话产出的诗是固定的。\n",
    "        #ix = np.argmax(preds) \n",
    "        #break\n",
    "\n",
    "        ps = preds.argsort()[-10:][::-1]\n",
    "        #print(ps)\n",
    "        for ix in ps:\n",
    "            if (ix != word_int_map[u' ']) and (ix != word_int_map['-']) and (ix != word_int_map['+']):\n",
    "                #print(ix)\n",
    "                return ix\n",
    "            \n",
    "        \n",
    "        # 方式二：#按照概率取下一个词\n",
    "        #ix = np.random.choice(VOCAB_SIZE, p=preds) \n",
    "        if ix != word_int_map[' ']:\n",
    "            break\n",
    "    return ix\n",
    "\n",
    "def generate_poem(model, first_word): #五言绝句\n",
    "    \n",
    "    poetry = ''#copy.copy(first_word)\n",
    "    \n",
    "    X = np.zeros((1, SEQ_LEN, VOCAB_SIZE))\n",
    "    ix = word_int_map.get(first_word,None)\n",
    "    \n",
    "    if ix is None:\n",
    "        ix = randint(0, len(VOCAB_SIZE)-1) #随机取一个作为first_word的ix\n",
    "        \n",
    "    for i in range(24): #预测多次\n",
    "\n",
    "        if i in [5,11,17,23]: #使用标点符号\n",
    "            char = '-' if (i in [5,11]) else '+'\n",
    "            poetry += char\n",
    "            #print('fuck',i,ix,int_word_map[ix],poetry)\n",
    "\n",
    "            # 下一个位置，各个词出现的概率\n",
    "            X[0][i][word_int_map[char]] = 1\n",
    "            preds = model.predict(X)[0][i]  \n",
    "            ix = get_next_prediction(preds)\n",
    "            continue\n",
    "        \n",
    "        poetry += int_word_map[ix]\n",
    "        #print(ix,int_word_map[ix],poetry)\n",
    "        \n",
    "        # 下一个位置，各个词出现的概率\n",
    "        X[0][i][ix] = 1\n",
    "        preds = model.predict(X)[0][i] \n",
    "\n",
    "        ix = get_next_prediction(preds)\n",
    "        #if i==1 :\n",
    "        #    return preds\n",
    "    \n",
    "    poetry = poetry.replace('-',u'，')\n",
    "    poetry = poetry.replace('+',u'。')\n",
    "    return poetry "
   ]
  },
  {
   "cell_type": "code",
   "execution_count": 149,
   "metadata": {
    "ExecuteTime": {
     "end_time": "2018-06-20T10:27:28.823187Z",
     "start_time": "2018-06-20T10:27:14.874307Z"
    },
    "collapsed": false
   },
   "outputs": [
    {
     "name": "stdout",
     "output_type": "stream",
     "text": [
      "锄鰅骊蜊鰅，鰅骊蜊鰅骊，鰅骊蜊鰅骊。扳鰅骊蜊鰅。\n",
      "晚鰅骊蜊鰅，鰅骊蜊鰅骊，鰅骊蜊鰅骊。扳鰅骊蜊鰅。\n"
     ]
    }
   ],
   "source": [
    "# 用第二十个echo训练出来的模型，做验证\n",
    "demo_model = load_model('models_30/models.10.hdf5')\n",
    "print(generate_poem(demo_model, '锄')) #用训练的模型\n",
    "print(generate_poem(demo_model, '晚')) #用训练的模型"
   ]
  },
  {
   "cell_type": "code",
   "execution_count": 151,
   "metadata": {
    "ExecuteTime": {
     "end_time": "2018-06-20T10:27:53.344969Z",
     "start_time": "2018-06-20T10:27:52.743795Z"
    },
    "collapsed": false
   },
   "outputs": [
    {
     "name": "stdout",
     "output_type": "stream",
     "text": [
      "云鰅骊蜊鰅，鰅骊蜊鰅骊，鰅骊蜊鰅骊。扳鰅骊蜊鰅。\n",
      "春鰅骊蜊鰅，鰅骊蜊鰅骊，鰅骊蜊鰅骊。扳鰅骊蜊鰅。\n"
     ]
    }
   ],
   "source": [
    "print(generate_poem(demo_model, '云')) #用训练的模型\n",
    "print(generate_poem(demo_model, '春')) #用训练的模型"
   ]
  },
  {
   "cell_type": "code",
   "execution_count": 23,
   "metadata": {
    "ExecuteTime": {
     "end_time": "2018-06-19T14:29:28.719517Z",
     "start_time": "2018-06-19T14:29:23.033837Z"
    },
    "collapsed": false
   },
   "outputs": [
    {
     "name": "stdout",
     "output_type": "stream",
     "text": [
      "锄鰅鰅鰅鰅，鰅鰅鰅鰅鰅，鰅鰅鰅鰅鰅。鰅鰅鰅鰅鰅。\n",
      "晚鰅鰅鰅鰅，鰅鰅鰅鰅鰅，鰅鰅鰅鰅鰅。鰅鰅鰅鰅鰅。\n"
     ]
    }
   ],
   "source": [
    "# 用第十一个echo训练出来的模型，做验证\n",
    "#demo_model = load_model('models_20/models.01.hdf5')\n",
    "print(generate_poem(demo_model, '锄')) #用训练的模型\n",
    "print(generate_poem(demo_model, '晚')) #用训练的模型"
   ]
  },
  {
   "cell_type": "markdown",
   "metadata": {},
   "source": [
    "# 模型二"
   ]
  },
  {
   "cell_type": "markdown",
   "metadata": {},
   "source": [
    "## 处理数据"
   ]
  },
  {
   "cell_type": "code",
   "execution_count": 219,
   "metadata": {
    "ExecuteTime": {
     "end_time": "2018-06-21T09:23:13.358969Z",
     "start_time": "2018-06-21T09:23:13.356222Z"
    },
    "collapsed": true
   },
   "outputs": [],
   "source": [
    "SEQ_LEN = 5 # 也是timestep的长度"
   ]
  },
  {
   "cell_type": "code",
   "execution_count": 47,
   "metadata": {
    "ExecuteTime": {
     "end_time": "2018-06-19T15:40:47.137380Z",
     "start_time": "2018-06-19T15:40:47.103818Z"
    },
    "collapsed": true
   },
   "outputs": [],
   "source": [
    "def process_poems_v2(file_name):\n",
    "    # 诗集\n",
    "    contents = ''\n",
    "    sentence_set = []\n",
    "    with open(file_name, \"r\", encoding='utf-8', ) as f:\n",
    "        for line in f.readlines():\n",
    "            try:\n",
    "                title, content = line.strip().split(':')\n",
    "                contents += content  \n",
    "\n",
    "                content = content.replace(' ', '')\n",
    "                cont_list = re.split('[+]',content) # 以+为断句。\n",
    "                \n",
    "                if cont_list[-1] != '': #最后一个sentence应该为空\n",
    "                    cont_list = cont_list[:-1] \n",
    "                    \n",
    "                clean_content = '+'.join(cont_list)\n",
    "                \n",
    "                sentence_set.append(clean_content)\n",
    "                \n",
    "            except ValueError as e:\n",
    "                pass\n",
    "    \n",
    "    all_words = list(contents)\n",
    "\n",
    "    #vocabs = set(all_words)  # 不可用\n",
    "    counter = collections.Counter(all_words)\n",
    "    vocabs = tuple([_[0] for _ in counter.items()])\n",
    "\n",
    "    vocabs = vocabs[:len(vocabs)] + (' ',)  #字典  \n",
    "    int_word_map = {ix:word for ix, word in enumerate(vocabs)}\n",
    "    word_int_map = {word:ix for ix, word in enumerate(vocabs)}\n",
    "    \n",
    "    sentence_vec = [list(map(lambda word: word_int_map.get(word, len(vocabs)), sen)) for sen in sentence_set]\n",
    "\n",
    "    return sentence_vec, word_int_map, int_word_map, vocabs"
   ]
  },
  {
   "cell_type": "markdown",
   "metadata": {},
   "source": [
    "## 构造训练数据"
   ]
  },
  {
   "cell_type": "code",
   "execution_count": 56,
   "metadata": {
    "ExecuteTime": {
     "end_time": "2018-06-19T15:42:15.031306Z",
     "start_time": "2018-06-19T15:42:11.935926Z"
    },
    "collapsed": true
   },
   "outputs": [],
   "source": [
    "sentence_vec, word_int_map, int_word_map, vocabs = process_poems_v2('poems.txt')"
   ]
  },
  {
   "cell_type": "code",
   "execution_count": 75,
   "metadata": {
    "ExecuteTime": {
     "end_time": "2018-06-19T15:47:29.545469Z",
     "start_time": "2018-06-19T15:47:29.541873Z"
    },
    "collapsed": true
   },
   "outputs": [],
   "source": [
    "HIDDEN_DIM = 50\n",
    "VOCAB_SIZE = len(vocabs)\n",
    "LAYER_NUM = 2\n",
    "SENTENCE_NUM = len(sentence_vec)"
   ]
  },
  {
   "cell_type": "code",
   "execution_count": 72,
   "metadata": {
    "ExecuteTime": {
     "end_time": "2018-06-19T15:45:34.487798Z",
     "start_time": "2018-06-19T15:45:34.435831Z"
    },
    "collapsed": true
   },
   "outputs": [],
   "source": [
    "# 使用迭代器\n",
    "def train_data_generator_v2(sentence_vec, word_int_map, vocabs, batch_size):\n",
    "    VOCAB_SIZE = len(vocabs)\n",
    "    while True:     \n",
    "        X = np.zeros((batch_size, SEQ_LEN, VOCAB_SIZE))\n",
    "        y = np.zeros((batch_size, SEQ_LEN, VOCAB_SIZE))\n",
    "        \n",
    "        bn = 0\n",
    "        while bn < batch_size:\n",
    "        #for bn in range(batch_size):\n",
    "            ix = randint(0, len(sentence_vec)-1) #随机取一个\n",
    "            one_sen = sentence_vec[ix]\n",
    "            \n",
    "            for ib in range(0,len(one_sen)-SEQ_LEN,2):\n",
    "                input_seq = one_sen[ib : ib+SEQ_LEN]\n",
    "                output_seq = one_sen[ib+1: ib+SEQ_LEN+1]\n",
    "                \n",
    "                input_seq_onehot = np.zeros((SEQ_LEN, VOCAB_SIZE))\n",
    "                output_seq_onehot = np.zeros((SEQ_LEN, VOCAB_SIZE))\n",
    "\n",
    "                for j in range(SEQ_LEN):\n",
    "                    input_seq_onehot[j][input_seq[j]] = 1\n",
    "                    output_seq_onehot[j][output_seq[j]] = 1\n",
    "                \n",
    "                X[bn] = input_seq_onehot\n",
    "                y[bn] = output_seq_onehot\n",
    "                bn += 1\n",
    "                if bn >= batch_size:\n",
    "                    break\n",
    "            \n",
    "        yield (X,y)"
   ]
  },
  {
   "cell_type": "markdown",
   "metadata": {},
   "source": [
    "## 测试-构造训练数据"
   ]
  },
  {
   "cell_type": "code",
   "execution_count": 73,
   "metadata": {
    "ExecuteTime": {
     "end_time": "2018-06-19T15:45:37.470068Z",
     "start_time": "2018-06-19T15:45:37.467296Z"
    },
    "collapsed": true
   },
   "outputs": [],
   "source": [
    "a = train_data_generator_v2(sentence_vec, word_int_map, vocabs,32)"
   ]
  },
  {
   "cell_type": "code",
   "execution_count": 74,
   "metadata": {
    "ExecuteTime": {
     "end_time": "2018-06-19T15:45:39.432309Z",
     "start_time": "2018-06-19T15:45:39.416070Z"
    },
    "collapsed": false
   },
   "outputs": [
    {
     "name": "stdout",
     "output_type": "stream",
     "text": [
      "32 32 (32, 5, 7549)\n"
     ]
    }
   ],
   "source": [
    "g = None\n",
    "for x in a:\n",
    "    g=x[0]\n",
    "    print(len(x[0]),len(x[1]),x[0].shape)\n",
    "    break"
   ]
  },
  {
   "cell_type": "markdown",
   "metadata": {
    "collapsed": true
   },
   "source": [
    "## 训练model\n",
    "参考Poems_generator_Keras,不过把模型由 multi-2-one 变为multi-2-multi。 "
   ]
  },
  {
   "cell_type": "code",
   "execution_count": 76,
   "metadata": {
    "ExecuteTime": {
     "end_time": "2018-06-19T15:51:52.281253Z",
     "start_time": "2018-06-19T15:51:47.711621Z"
    },
    "collapsed": true
   },
   "outputs": [],
   "source": [
    "model = Sequential()\n",
    "model.add(LSTM(512, input_shape=(SEQ_LEN, VOCAB_SIZE), return_sequences=True))\n",
    "model.add(Dropout(0.6))\n",
    "model.add(LSTM(216, return_sequences=True))\n",
    "model.add(Dropout(0.6))\n",
    "model.add(TimeDistributed(Dense(VOCAB_SIZE)))\n",
    "model.add(Activation('softmax'))\n",
    "model.compile(loss=\"categorical_crossentropy\", optimizer=\"adam\")"
   ]
  },
  {
   "cell_type": "code",
   "execution_count": 216,
   "metadata": {
    "ExecuteTime": {
     "end_time": "2018-06-20T11:31:44.045535Z",
     "start_time": "2018-06-20T11:31:44.040920Z"
    },
    "collapsed": false
   },
   "outputs": [],
   "source": [
    "# 回调函数\n",
    "# 训练过程可视化\n",
    "tb = keras.callbacks.TensorBoard(log_dir='./logs')\n",
    "\n",
    "# 保存训练的模型\n",
    "ckpoint = keras.callbacks.ModelCheckpoint('models_20/models.{epoch:02d}.hdf5')\n",
    "\n",
    "callbacks = [tb, ckpoint]"
   ]
  },
  {
   "cell_type": "code",
   "execution_count": null,
   "metadata": {
    "ExecuteTime": {
     "start_time": "2018-06-20T03:32:57.241Z"
    },
    "collapsed": false
   },
   "outputs": [
    {
     "name": "stdout",
     "output_type": "stream",
     "text": [
      "Epoch 1/10\n",
      "  413/10000 [>.............................] - ETA: 51:32 - loss: 5.3541"
     ]
    }
   ],
   "source": [
    "history20 = model.fit_generator(generator=train_data_generator_v2(sentence_vec, word_int_map, vocabs,32),\n",
    "                    steps_per_epoch=10000, epochs=10,\n",
    "                    callbacks=callbacks)"
   ]
  },
  {
   "cell_type": "markdown",
   "metadata": {},
   "source": [
    "## 生成数据"
   ]
  },
  {
   "cell_type": "code",
   "execution_count": 220,
   "metadata": {
    "ExecuteTime": {
     "end_time": "2018-06-21T09:23:19.316090Z",
     "start_time": "2018-06-21T09:23:19.223499Z"
    },
    "collapsed": false
   },
   "outputs": [],
   "source": [
    "def get_next_prediction(preds):\n",
    "    bad_word_ind = [word_int_map[u' '], word_int_map['-'], word_int_map['+']]\n",
    "    \"\"\"\n",
    "    # 方式一：取最大概率的; 但是这样的话产出的诗是固定的。\n",
    "    ps = preds.argsort()[-20:][::-1]\n",
    "    for ix in ps:\n",
    "        if ix not in bad_word_ind:\n",
    "            return ix\n",
    "    \"\"\"\n",
    "    # 方式二：#按照概率取下一个词\n",
    "    ps = preds.argsort()[-20:][::-1]\n",
    "    ps = [_ for _ in ps if _ not in bad_word_ind]\n",
    "    pre = np.array([preds[_] for _ in ps if _ not in bad_word_ind])\n",
    "    pre = pre/pre.sum()\n",
    "    ix = np.random.choice(ps, p=pre) \n",
    "    return ix\n",
    "\n",
    "def predict_sentence(model,first_word):\n",
    "    ''' 产出一个句子'''\n",
    "    poetry = ''#copy.copy(first_word)\n",
    "    X = np.zeros((1, SEQ_LEN, VOCAB_SIZE))\n",
    "    ix = word_int_map.get(first_word,None)\n",
    "    \n",
    "    if ix is None:\n",
    "        ix = randint(0, len(VOCAB_SIZE)-1) #随机取一个作为first_word的ix\n",
    "        \n",
    "    for i in range(5): #预测多次     \n",
    "        poetry += int_word_map[ix]\n",
    "        \n",
    "        # 此位置的输出，也就是下一个位置的各个词出现的概率\n",
    "        X[0][i][ix] = 1\n",
    "        preds = model.predict(X)[0][i]\n",
    "        ix = get_next_prediction(preds)\n",
    "    return poetry \n",
    "\n",
    "def generate_poem(model, first_word): \n",
    "    \"\"\" 五言绝句 \"\"\"\n",
    "    poetry = ''#copy.copy(first_word)\n",
    "    # 五言绝句，共24个词\n",
    "    X = np.zeros((1,24 , VOCAB_SIZE))\n",
    "    ix = word_int_map.get(first_word,None)\n",
    "    \n",
    "    if ix is None:\n",
    "        ix = randint(0, len(VOCAB_SIZE)-1) #随机取一个作为first_word的ix\n",
    "        \n",
    "    for i in range(24): #预测多次\n",
    "        pred_x = np.zeros((1,SEQ_LEN , VOCAB_SIZE))\n",
    "        if i in [5,11,17,23]: #使用标点符号\n",
    "            char = '-' if (i in [5,17]) else '+'\n",
    "            poetry += char\n",
    "            #print('fuck',i,ix,int_word_map[ix],poetry)\n",
    "\n",
    "            # 此位置的输出，也就是下一个位置的各个词出现的概率\n",
    "            X[0][i][word_int_map[char]] = 1\n",
    "            pred_x[0] = X[0][:5] if i<5 else X[0][i-5:i]\n",
    "\n",
    "            #print(model.predict(X[end_ind-5,end_ind])[0].shape)\n",
    "            preds = model.predict(pred_x)[0][4]  \n",
    "            ix = get_next_prediction(preds)\n",
    "            continue\n",
    "        \n",
    "        poetry += int_word_map[ix]\n",
    "        #print(ix,int_word_map[ix],poetry)\n",
    "        \n",
    "        X[0][i][ix] = 1\n",
    "        pred_x[0] = X[0][:5] if i<5 else X[0][i-5:i]\n",
    "        get_i = i if i < 5 else 4 \n",
    "        # 预测此位置的输出，也就是下一个位置的各个词出现的概率\n",
    "        preds = model.predict(pred_x)[0][get_i]\n",
    "        ix = get_next_prediction(preds)\n",
    "    \n",
    "    poetry = poetry.replace('-',u'，')\n",
    "    poetry = poetry.replace('+',u'。')\n",
    "    return poetry \n"
   ]
  },
  {
   "cell_type": "code",
   "execution_count": 156,
   "metadata": {
    "ExecuteTime": {
     "end_time": "2018-06-20T10:36:52.065048Z",
     "start_time": "2018-06-20T10:36:37.885801Z"
    },
    "collapsed": false
   },
   "outputs": [],
   "source": [
    "# 用第十个echo训练出来的模型，做验证\n",
    "demo_model = load_model('models/models.10.hdf5')"
   ]
  },
  {
   "cell_type": "code",
   "execution_count": 211,
   "metadata": {
    "ExecuteTime": {
     "end_time": "2018-06-20T11:30:09.769542Z",
     "start_time": "2018-06-20T11:30:09.251417Z"
    },
    "collapsed": false
   },
   "outputs": [
    {
     "name": "stdout",
     "output_type": "stream",
     "text": [
      "锄来未可寻\n",
      "晚雨生花雪\n",
      "云生石石山\n",
      "马自还王署\n",
      "书剑一来人\n"
     ]
    }
   ],
   "source": [
    "# 生成五言绝句,训练了10个echo的模型\n",
    "print(predict_sentence(demo_model, '锄'))\n",
    "print(predict_sentence(demo_model, '晚')) \n",
    "print(predict_sentence(demo_model, '云'))\n",
    "print(predict_sentence(demo_model, '马'))\n",
    "print(predict_sentence(demo_model, '书'))"
   ]
  },
  {
   "cell_type": "code",
   "execution_count": 210,
   "metadata": {
    "ExecuteTime": {
     "end_time": "2018-06-20T11:30:01.485703Z",
     "start_time": "2018-06-20T11:29:58.947991Z"
    },
    "collapsed": false
   },
   "outputs": [
    {
     "name": "stdout",
     "output_type": "stream",
     "text": [
      "锄人事长安，未不尽有如。何莫时归来，后谁山来客。\n",
      "晚来来几年，风何起处处。人谁间知在，山不水入平。\n",
      "云外入空空，不万是金长。一不叶成边，不春见人故。\n",
      "马蹄来不得，无何劳人者。如不何为用，一神生无在。\n",
      "书为有所见，长此为时君。自一道千士，已如向一海。\n"
     ]
    }
   ],
   "source": [
    "# 生成五言绝句,训练了10个echo的模型\n",
    "print(generate_poem(demo_model, '锄')) \n",
    "print(generate_poem(demo_model, '晚'))\n",
    "print(generate_poem(demo_model, '云'))\n",
    "print(generate_poem(demo_model, '马'))\n",
    "print(generate_poem(demo_model, '书'))"
   ]
  },
  {
   "cell_type": "code",
   "execution_count": 221,
   "metadata": {
    "ExecuteTime": {
     "end_time": "2018-06-21T09:23:49.786942Z",
     "start_time": "2018-06-21T09:23:35.424250Z"
    },
    "collapsed": true
   },
   "outputs": [],
   "source": [
    "# 第二十个echo模型\n",
    "demo_model = load_model('models_20/models.10.hdf5')"
   ]
  },
  {
   "cell_type": "code",
   "execution_count": 222,
   "metadata": {
    "ExecuteTime": {
     "end_time": "2018-06-21T09:24:55.379565Z",
     "start_time": "2018-06-21T09:24:50.965075Z"
    },
    "collapsed": false
   },
   "outputs": [
    {
     "name": "stdout",
     "output_type": "stream",
     "text": [
      "锄尽青山在，石何室时中。有我事相人，已一向年秋。\n",
      "晚光生不极，来一往一来。来不年见还，难何随一我。\n",
      "云外远烟春，欲月与花春。未夜有归时，未日必天相。\n",
      "马嘶青草远，无一限片离。时谁节识相，寻金常得自。\n",
      "书不足如今，不自知得身。难我为有游，兮一天其涯。\n"
     ]
    }
   ],
   "source": [
    "# 生成五言绝句,训练了20个echo的模型\n",
    "print(generate_poem(demo_model, '锄')) \n",
    "print(generate_poem(demo_model, '晚'))\n",
    "print(generate_poem(demo_model, '云'))\n",
    "print(generate_poem(demo_model, '马'))\n",
    "print(generate_poem(demo_model, '书'))"
   ]
  },
  {
   "cell_type": "code",
   "execution_count": 223,
   "metadata": {
    "ExecuteTime": {
     "end_time": "2018-06-21T09:25:27.841700Z",
     "start_time": "2018-06-21T09:25:27.340473Z"
    },
    "collapsed": false
   },
   "outputs": [
    {
     "name": "stdout",
     "output_type": "stream",
     "text": [
      "锄来有人去\n",
      "晚风吹竹竹\n",
      "云水在西南\n",
      "马蹄归不足\n",
      "书书入故人\n"
     ]
    }
   ],
   "source": [
    "# 生成五言绝句,训练了20个echo的模型\n",
    "print(predict_sentence(demo_model, '锄'))\n",
    "print(predict_sentence(demo_model, '晚')) \n",
    "print(predict_sentence(demo_model, '云'))\n",
    "print(predict_sentence(demo_model, '马'))\n",
    "print(predict_sentence(demo_model, '书'))"
   ]
  },
  {
   "cell_type": "markdown",
   "metadata": {},
   "source": [
    "## 训练过程loss 画图"
   ]
  },
  {
   "cell_type": "code",
   "execution_count": 212,
   "metadata": {
    "ExecuteTime": {
     "end_time": "2018-06-20T11:30:42.681061Z",
     "start_time": "2018-06-20T11:30:42.676456Z"
    },
    "collapsed": false
   },
   "outputs": [
    {
     "data": {
      "text/plain": [
       "[6.1911234814643858,\n",
       " 5.8134521771430974,\n",
       " 5.6579700903892514,\n",
       " 5.566398260450363,\n",
       " 5.482896227884293,\n",
       " 5.4445278005599977,\n",
       " 5.4105356895446777,\n",
       " 5.3697276246547698,\n",
       " 5.3470917725324627,\n",
       " 5.3215426424980166]"
      ]
     },
     "execution_count": 212,
     "metadata": {},
     "output_type": "execute_result"
    }
   ],
   "source": [
    "history.history['loss']"
   ]
  },
  {
   "cell_type": "code",
   "execution_count": 30,
   "metadata": {
    "ExecuteTime": {
     "end_time": "2018-06-16T09:12:32.276790Z",
     "start_time": "2018-06-16T09:12:32.274005Z"
    },
    "collapsed": true
   },
   "outputs": [],
   "source": [
    "import matplotlib.pyplot as plt"
   ]
  },
  {
   "cell_type": "code",
   "execution_count": 214,
   "metadata": {
    "ExecuteTime": {
     "end_time": "2018-06-20T11:31:12.287148Z",
     "start_time": "2018-06-20T11:31:12.278699Z"
    },
    "collapsed": true
   },
   "outputs": [],
   "source": [
    "%matplotlib inline"
   ]
  },
  {
   "cell_type": "code",
   "execution_count": 215,
   "metadata": {
    "ExecuteTime": {
     "end_time": "2018-06-20T11:31:13.960632Z",
     "start_time": "2018-06-20T11:31:13.760166Z"
    },
    "collapsed": false
   },
   "outputs": [
    {
     "data": {
      "text/plain": [
       "[<matplotlib.lines.Line2D at 0x7ef9fe339278>]"
      ]
     },
     "execution_count": 215,
     "metadata": {},
     "output_type": "execute_result"
    },
    {
     "data": {
      "image/png": "[encoded data removed]",
      "text/plain": [
       "<matplotlib.figure.Figure at 0x7ef9fe3a99b0>"
      ]
     },
     "metadata": {},
     "output_type": "display_data"
    }
   ],
   "source": [
    "# 前十个echo训练出来的loss\n",
    "plt.plot(history.history['loss'])"
   ]
  },
  {
   "cell_type": "code",
   "execution_count": 225,
   "metadata": {
    "ExecuteTime": {
     "end_time": "2018-06-21T09:26:08.067216Z",
     "start_time": "2018-06-21T09:26:07.853963Z"
    },
    "collapsed": false
   },
   "outputs": [
    {
     "data": {
      "text/plain": [
       "[<matplotlib.lines.Line2D at 0x7ef9d0785898>]"
      ]
     },
     "execution_count": 225,
     "metadata": {},
     "output_type": "execute_result"
    },
    {
     "data": {
      "image/png": "[encoded data removed]",
      "text/plain": [
       "<matplotlib.figure.Figure at 0x7ef9fdf7cc50>"
      ]
     },
     "metadata": {},
     "output_type": "display_data"
    }
   ],
   "source": [
    "# 前十个echo训练出来的loss\n",
    "plt.plot(history20.history['loss'])"
   ]
  },
  {
   "cell_type": "code",
   "execution_count": 226,
   "metadata": {
    "ExecuteTime": {
     "end_time": "2018-06-21T09:27:43.438007Z",
     "start_time": "2018-06-21T09:27:43.434898Z"
    },
    "collapsed": true
   },
   "outputs": [],
   "source": [
    "echo_20_loss = history.history['loss']\n",
    "echo_20_loss += history20.history['loss']"
   ]
  },
  {
   "cell_type": "code",
   "execution_count": 227,
   "metadata": {
    "ExecuteTime": {
     "end_time": "2018-06-21T09:27:59.710825Z",
     "start_time": "2018-06-21T09:27:59.527304Z"
    },
    "collapsed": false
   },
   "outputs": [
    {
     "data": {
      "text/plain": [
       "[<matplotlib.lines.Line2D at 0x7ef9d076d048>]"
      ]
     },
     "execution_count": 227,
     "metadata": {},
     "output_type": "execute_result"
    },
    {
     "data": {
      "image/png": "[encoded data removed]",
      "text/plain": [
       "<matplotlib.figure.Figure at 0x7ef9d08c5be0>"
      ]
     },
     "metadata": {},
     "output_type": "display_data"
    }
   ],
   "source": [
    "plt.plot(echo_20_loss)"
   ]
  },
  {
   "cell_type": "code",
   "execution_count": null,
   "metadata": {
    "collapsed": true
   },
   "outputs": [],
   "source": []
  }
 ],
 "metadata": {
  "anaconda-cloud": {},
  "kernelspec": {
   "display_name": "Python [default]",
   "language": "python",
   "name": "python3"
  },
  "language_info": {
   "codemirror_mode": {
    "name": "ipython",
    "version": 3
   },
   "file_extension": ".py",
   "mimetype": "text/x-python",
   "name": "python",
   "nbconvert_exporter": "python",
   "pygments_lexer": "ipython3",
   "version": "3.5.2"
  },
  "toc": {
   "nav_menu": {},
   "number_sections": true,
   "sideBar": true,
   "skip_h1_title": false,
   "toc_cell": false,
   "toc_position": {
    "height": "416px",
    "left": "0px",
    "right": "1101.01px",
    "top": "108px",
    "width": "144px"
   },
   "toc_section_display": "block",
   "toc_window_display": true
  }
 },
 "nbformat": 4,
 "nbformat_minor": 2
}
